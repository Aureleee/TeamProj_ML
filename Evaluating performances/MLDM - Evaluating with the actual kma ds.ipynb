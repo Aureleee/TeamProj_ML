{
 "cells": [
  {
   "cell_type": "markdown",
   "id": "0527a7dd",
   "metadata": {},
   "source": [
    "# Evaluating the performance for each model with the actual dataset from \"KMA\""
   ]
  },
  {
   "cell_type": "markdown",
   "id": "82cb79c0",
   "metadata": {},
   "source": [
    "### Librairies"
   ]
  },
  {
   "cell_type": "code",
   "execution_count": 1,
   "id": "1fa3aa61",
   "metadata": {},
   "outputs": [
    {
     "name": "stdout",
     "output_type": "stream",
     "text": [
      "Requirement already satisfied: dmba in c:\\users\\hindi\\anaconda3\\lib\\site-packages (0.2.4)\n",
      "Requirement already satisfied: graphviz in c:\\users\\hindi\\anaconda3\\lib\\site-packages (from dmba) (0.20.3)\n",
      "Requirement already satisfied: matplotlib in c:\\users\\hindi\\anaconda3\\lib\\site-packages (from dmba) (3.7.2)\n",
      "Requirement already satisfied: numpy in c:\\users\\hindi\\anaconda3\\lib\\site-packages (from dmba) (1.24.3)\n",
      "Requirement already satisfied: pandas in c:\\users\\hindi\\anaconda3\\lib\\site-packages (from dmba) (2.0.3)\n",
      "Requirement already satisfied: scikit-learn in c:\\users\\hindi\\anaconda3\\lib\\site-packages (from dmba) (1.6.1)\n",
      "Requirement already satisfied: scipy in c:\\users\\hindi\\anaconda3\\lib\\site-packages (from dmba) (1.11.1)\n",
      "Requirement already satisfied: contourpy>=1.0.1 in c:\\users\\hindi\\anaconda3\\lib\\site-packages (from matplotlib->dmba) (1.0.5)\n",
      "Requirement already satisfied: cycler>=0.10 in c:\\users\\hindi\\anaconda3\\lib\\site-packages (from matplotlib->dmba) (0.11.0)\n",
      "Requirement already satisfied: fonttools>=4.22.0 in c:\\users\\hindi\\anaconda3\\lib\\site-packages (from matplotlib->dmba) (4.25.0)\n",
      "Requirement already satisfied: kiwisolver>=1.0.1 in c:\\users\\hindi\\anaconda3\\lib\\site-packages (from matplotlib->dmba) (1.4.4)\n",
      "Requirement already satisfied: packaging>=20.0 in c:\\users\\hindi\\anaconda3\\lib\\site-packages (from matplotlib->dmba) (23.1)\n",
      "Requirement already satisfied: pillow>=6.2.0 in c:\\users\\hindi\\anaconda3\\lib\\site-packages (from matplotlib->dmba) (10.0.1)\n",
      "Requirement already satisfied: pyparsing<3.1,>=2.3.1 in c:\\users\\hindi\\anaconda3\\lib\\site-packages (from matplotlib->dmba) (3.0.9)\n",
      "Requirement already satisfied: python-dateutil>=2.7 in c:\\users\\hindi\\anaconda3\\lib\\site-packages (from matplotlib->dmba) (2.8.2)\n",
      "Requirement already satisfied: pytz>=2020.1 in c:\\users\\hindi\\anaconda3\\lib\\site-packages (from pandas->dmba) (2023.3.post1)\n",
      "Requirement already satisfied: tzdata>=2022.1 in c:\\users\\hindi\\anaconda3\\lib\\site-packages (from pandas->dmba) (2023.3)\n",
      "Requirement already satisfied: joblib>=1.2.0 in c:\\users\\hindi\\anaconda3\\lib\\site-packages (from scikit-learn->dmba) (1.2.0)\n",
      "Requirement already satisfied: threadpoolctl>=3.1.0 in c:\\users\\hindi\\anaconda3\\lib\\site-packages (from scikit-learn->dmba) (3.6.0)\n",
      "Requirement already satisfied: six>=1.5 in c:\\users\\hindi\\anaconda3\\lib\\site-packages (from python-dateutil>=2.7->matplotlib->dmba) (1.16.0)\n",
      "Note: you may need to restart the kernel to use updated packages.\n"
     ]
    }
   ],
   "source": [
    "pip install dmba"
   ]
  },
  {
   "cell_type": "code",
   "execution_count": 2,
   "id": "5ead8ab5",
   "metadata": {},
   "outputs": [],
   "source": [
    "import math\n",
    "import numpy as np\n",
    "from pathlib import Path\n",
    "import pandas as pd\n",
    "from sklearn.model_selection import train_test_split\n",
    "from sklearn.linear_model import LinearRegression\n",
    "from sklearn.metrics import accuracy_score, roc_curve, auc, roc_auc_score, f1_score, confusion_matrix\n",
    "from sklearn.metrics import RocCurveDisplay\n",
    "from sklearn.metrics import mean_squared_error, mean_absolute_error, r2_score\n",
    "\n",
    "import matplotlib.pylab as plt\n",
    "import seaborn as sns\n",
    "\n",
    "import dmba\n",
    "from dmba import regressionSummary, classificationSummary, liftChart, gainsChart\n",
    "\n",
    "%matplotlib inline"
   ]
  },
  {
   "cell_type": "markdown",
   "id": "dfecd761",
   "metadata": {},
   "source": [
    "## Introduction : some analysis about the dataset"
   ]
  },
  {
   "cell_type": "code",
   "execution_count": null,
   "id": "5dad3287",
   "metadata": {},
   "outputs": [],
   "source": []
  },
  {
   "cell_type": "markdown",
   "id": "52d057c9",
   "metadata": {},
   "source": [
    "## Information for the evaluation :\n",
    "Original dataset come from KMA.go.kr, last updated 4th of June.\n",
    "It has been partitioned in two : \n",
    "\n",
    "- 2000-01-01 to 2024-12-31 for the \"kma_train.csv\", \n",
    "- 2025-01-01 to 2025-06-04 for the \"kma_test.csv\"\n",
    "\n",
    "To evaluate the model, you should have this code in the same file as \"kma_train.csv\", \"kma_test.csv\" and also \"result.csv\", which gaves the result of the model (rainfall) for test values."
   ]
  },
  {
   "cell_type": "markdown",
   "id": "556660b4",
   "metadata": {},
   "source": [
    "Commentaires : \n",
    "- Split the data from train : for cross validation\n",
    "- Correlation matrix\n",
    "- ROC curves\n",
    "- Lift gain\n",
    "- Lift chart\n",
    "- r2 score"
   ]
  },
  {
   "cell_type": "markdown",
   "id": "d65c0a89",
   "metadata": {},
   "source": [
    "Load data frame and select columns for regression analysis"
   ]
  },
  {
   "cell_type": "code",
   "execution_count": 3,
   "id": "41de3470",
   "metadata": {},
   "outputs": [
    {
     "data": {
      "text/plain": [
       "0      0.0\n",
       "1      0.0\n",
       "2      0.0\n",
       "3      0.0\n",
       "4      1.0\n",
       "      ... \n",
       "150    0.0\n",
       "151    0.0\n",
       "152    0.0\n",
       "153    0.0\n",
       "154    0.0\n",
       "Name: rainfall, Length: 155, dtype: float64"
      ]
     },
     "execution_count": 3,
     "metadata": {},
     "output_type": "execute_result"
    }
   ],
   "source": [
    "df_train = pd.read_csv('kma_train.csv')\n",
    "df_test = pd.read_csv('kma_test.csv')\n",
    "outcome = 'rainfall'\n",
    "\n",
    "y_true = df_test[outcome]\n",
    "y_true"
   ]
  },
  {
   "cell_type": "markdown",
   "id": "c4f2e5b1",
   "metadata": {},
   "source": [
    "Typical evaluations"
   ]
  },
  {
   "cell_type": "code",
   "execution_count": 16,
   "id": "5f8e162a",
   "metadata": {},
   "outputs": [
    {
     "data": {
      "text/html": [
       "<div>\n",
       "<style scoped>\n",
       "    .dataframe tbody tr th:only-of-type {\n",
       "        vertical-align: middle;\n",
       "    }\n",
       "\n",
       "    .dataframe tbody tr th {\n",
       "        vertical-align: top;\n",
       "    }\n",
       "\n",
       "    .dataframe thead th {\n",
       "        text-align: right;\n",
       "    }\n",
       "</style>\n",
       "<table border=\"1\" class=\"dataframe\">\n",
       "  <thead>\n",
       "    <tr style=\"text-align: right;\">\n",
       "      <th></th>\n",
       "      <th>date</th>\n",
       "      <th>rainfall</th>\n",
       "    </tr>\n",
       "  </thead>\n",
       "  <tbody>\n",
       "    <tr>\n",
       "      <th>0</th>\n",
       "      <td>0</td>\n",
       "      <td>0.158968</td>\n",
       "    </tr>\n",
       "    <tr>\n",
       "      <th>1</th>\n",
       "      <td>1</td>\n",
       "      <td>-0.126517</td>\n",
       "    </tr>\n",
       "    <tr>\n",
       "      <th>2</th>\n",
       "      <td>2</td>\n",
       "      <td>0.056552</td>\n",
       "    </tr>\n",
       "    <tr>\n",
       "      <th>3</th>\n",
       "      <td>3</td>\n",
       "      <td>-0.155386</td>\n",
       "    </tr>\n",
       "    <tr>\n",
       "      <th>4</th>\n",
       "      <td>4</td>\n",
       "      <td>0.757214</td>\n",
       "    </tr>\n",
       "    <tr>\n",
       "      <th>...</th>\n",
       "      <td>...</td>\n",
       "      <td>...</td>\n",
       "    </tr>\n",
       "    <tr>\n",
       "      <th>150</th>\n",
       "      <td>150</td>\n",
       "      <td>0.033359</td>\n",
       "    </tr>\n",
       "    <tr>\n",
       "      <th>151</th>\n",
       "      <td>151</td>\n",
       "      <td>-0.034999</td>\n",
       "    </tr>\n",
       "    <tr>\n",
       "      <th>152</th>\n",
       "      <td>152</td>\n",
       "      <td>0.389661</td>\n",
       "    </tr>\n",
       "    <tr>\n",
       "      <th>153</th>\n",
       "      <td>153</td>\n",
       "      <td>-0.039231</td>\n",
       "    </tr>\n",
       "    <tr>\n",
       "      <th>154</th>\n",
       "      <td>154</td>\n",
       "      <td>-0.008923</td>\n",
       "    </tr>\n",
       "  </tbody>\n",
       "</table>\n",
       "<p>155 rows × 2 columns</p>\n",
       "</div>"
      ],
      "text/plain": [
       "     date  rainfall\n",
       "0       0  0.158968\n",
       "1       1 -0.126517\n",
       "2       2  0.056552\n",
       "3       3 -0.155386\n",
       "4       4  0.757214\n",
       "..    ...       ...\n",
       "150   150  0.033359\n",
       "151   151 -0.034999\n",
       "152   152  0.389661\n",
       "153   153 -0.039231\n",
       "154   154 -0.008923\n",
       "\n",
       "[155 rows x 2 columns]"
      ]
     },
     "execution_count": 16,
     "metadata": {},
     "output_type": "execute_result"
    }
   ],
   "source": [
    "predictions = pd.read_csv('prophet_future_df.csv')\n",
    "predictions"
   ]
  },
  {
   "cell_type": "code",
   "execution_count": 17,
   "id": "37e20ff6",
   "metadata": {},
   "outputs": [
    {
     "data": {
      "text/plain": [
       "0      0.158968\n",
       "1     -0.126517\n",
       "2      0.056552\n",
       "3     -0.155386\n",
       "4      0.757214\n",
       "         ...   \n",
       "150    0.033359\n",
       "151   -0.034999\n",
       "152    0.389661\n",
       "153   -0.039231\n",
       "154   -0.008923\n",
       "Name: rainfall, Length: 155, dtype: float64"
      ]
     },
     "execution_count": 17,
     "metadata": {},
     "output_type": "execute_result"
    }
   ],
   "source": [
    "y_pred = predictions[outcome]\n",
    "y_pred"
   ]
  },
  {
   "cell_type": "code",
   "execution_count": 18,
   "id": "a852543f",
   "metadata": {},
   "outputs": [],
   "source": [
    "def Evaluate_Model(model_name):\n",
    "    print(f\"\\n Model evaluated : {model_name}\")\n",
    "    \n",
    "    #model tested's function which creates a sample_submission.csv with test_X as the dataset to verify\n",
    "    predictions = pd.read_csv('submission.csv')\n",
    "    y_pred = predictions['rainfall'] #result of the model\n",
    "\n",
    "    print(\"Confusion matrix :\")\n",
    "    confusion_matrix_heatmap(test_y, y_pred)\n",
    "    \n",
    "    print(\"ROC curves :\")\n",
    "    plot_roc_curve(test_y, y_pred)\n",
    "    \n",
    "    print(\"Gain Chart & Lift Chart\")\n",
    "    Gain_Lift_Chart(test_y, y_pred)\n",
    "    \n",
    "    \n",
    "    # Probabilités (si possible)\n",
    "    try:\n",
    "        y_prob = model.predict_proba(X_test)[:, 1]\n",
    "    except:\n",
    "        y_prob = None\n",
    "\n",
    "\n",
    "    \n",
    "    "
   ]
  },
  {
   "cell_type": "code",
   "execution_count": 19,
   "id": "069c8aa5",
   "metadata": {},
   "outputs": [],
   "source": [
    "def confusion_matrix_heatmap(y_true, y_pred):\n",
    "    if any(isinstance(p, float) for p in y_pred):\n",
    "        y_pred_copy = [1 if p >= 0.5 else 0 for p in y_pred]\n",
    "    else:\n",
    "        y_pred_copy = y_pred.copy()\n",
    "    if any(isinstance(p, float) for p in y_true):\n",
    "        y_true_copy = [1 if p >= 0.5 else 0 for p in y_true]\n",
    "    else:\n",
    "        y_true_copy = y_true.copy()\n",
    "\n",
    "    classes = sorted(set(y_true_copy) | set(y_pred_copy))\n",
    "    \n",
    "    matrix = pd.DataFrame(\n",
    "        data=0,\n",
    "        index=[f\"Real {cls}\" for cls in classes],\n",
    "        columns=[f\"Predict {cls}\" for cls in classes]\n",
    "    )\n",
    "    \n",
    "    for true, pred in zip(y_true_copy, y_pred_copy):\n",
    "        matrix.loc[f\"Real {true}\", f\"Predict {pred}\"] += 1\n",
    "\n",
    "    plt.figure(figsize=(2, 2))\n",
    "    sns.heatmap(matrix, annot=True, fmt=\"d\", cmap=\"Blues\", cbar=False,\n",
    "                linewidths=0.5, linecolor='gray')\n",
    "    plt.title(\"Confusion matrix\", fontsize=14)\n",
    "    plt.xlabel(\"y_pred (predicted)\")\n",
    "    plt.ylabel(\"y_true (actual values)\")\n",
    "    plt.tight_layout()\n",
    "    plt.show()\n",
    "    \n",
    "    accuracy = (matrix.iloc[1,1]+ matrix.iloc[0,0]) / matrix.values.sum()\n",
    "    precision = (matrix.iloc[1,1] / matrix.iloc[1,1] + matrix.iloc[0,1]) if (matrix.iloc[1,1] + matrix.iloc[0,1]) > 0 else 0\n",
    "    recall = (matrix.iloc[1,1] / matrix.iloc[1,1] + matrix.iloc[1,0]) if (matrix.iloc[1,1] + matrix.iloc[1,0]) > 0 else 0\n",
    "    f1 = 2 * (precision * recall) / (precision + recall) if (precision + recall) > 0 else 0\n",
    "\n",
    "    print(f\"\\nAccuracy:  {accuracy:.2f}\")\n",
    "    print(f\"Precision: {precision:.2f}\")\n",
    "    print(f\"Recall:    {recall:.2f}\")\n",
    "    print(f\"F1 score:  {f1:.2f}\")\n",
    "\n",
    "    return matrix"
   ]
  },
  {
   "cell_type": "code",
   "execution_count": 20,
   "id": "70103bbb",
   "metadata": {},
   "outputs": [
    {
     "data": {
      "image/png": "[encoded data removed]",
      "text/plain": [
       "<Figure size 200x200 with 1 Axes>"
      ]
     },
     "metadata": {},
     "output_type": "display_data"
    },
    {
     "name": "stdout",
     "output_type": "stream",
     "text": [
      "\n",
      "Accuracy:  0.91\n",
      "Precision: 4.00\n",
      "Recall:    12.00\n",
      "F1 score:  6.00\n"
     ]
    },
    {
     "data": {
      "text/html": [
       "<div>\n",
       "<style scoped>\n",
       "    .dataframe tbody tr th:only-of-type {\n",
       "        vertical-align: middle;\n",
       "    }\n",
       "\n",
       "    .dataframe tbody tr th {\n",
       "        vertical-align: top;\n",
       "    }\n",
       "\n",
       "    .dataframe thead th {\n",
       "        text-align: right;\n",
       "    }\n",
       "</style>\n",
       "<table border=\"1\" class=\"dataframe\">\n",
       "  <thead>\n",
       "    <tr style=\"text-align: right;\">\n",
       "      <th></th>\n",
       "      <th>Predict 0</th>\n",
       "      <th>Predict 1</th>\n",
       "    </tr>\n",
       "  </thead>\n",
       "  <tbody>\n",
       "    <tr>\n",
       "      <th>Real 0</th>\n",
       "      <td>113</td>\n",
       "      <td>3</td>\n",
       "    </tr>\n",
       "    <tr>\n",
       "      <th>Real 1</th>\n",
       "      <td>11</td>\n",
       "      <td>28</td>\n",
       "    </tr>\n",
       "  </tbody>\n",
       "</table>\n",
       "</div>"
      ],
      "text/plain": [
       "        Predict 0  Predict 1\n",
       "Real 0        113          3\n",
       "Real 1         11         28"
      ]
     },
     "execution_count": 20,
     "metadata": {},
     "output_type": "execute_result"
    }
   ],
   "source": [
    "confusion_matrix_heatmap(y_true, y_pred)"
   ]
  },
  {
   "cell_type": "code",
   "execution_count": 21,
   "id": "103f3ca1",
   "metadata": {},
   "outputs": [],
   "source": [
    "def plot_roc_curve(y_true, y_prob):\n",
    "    fpr, tpr, thresholds = roc_curve(y_true, y_prob)\n",
    "    auc_score = roc_auc_score(y_true, y_prob)\n",
    "\n",
    "    plt.figure(figsize=(6, 6))\n",
    "    plt.plot(fpr, tpr, color='darkorange', lw=2, label=f'ROC curve (AUC = {auc_score:.2f})')\n",
    "    plt.plot([0, 1], [0, 1], color='gray', linestyle='--', label='Random (AUC = 0.5)')\n",
    "    plt.xlim([0.0, 1.0])\n",
    "    plt.ylim([0.0, 1.05])\n",
    "    plt.xlabel('False positives rate (FPR)')\n",
    "    plt.ylabel('True positives rate (TPR)')\n",
    "    plt.title('ROC curve')\n",
    "    plt.legend(loc=\"lower right\")\n",
    "    plt.grid(True)\n",
    "    plt.tight_layout()\n",
    "    plt.show()"
   ]
  },
  {
   "cell_type": "code",
   "execution_count": 22,
   "id": "8ea4afd8",
   "metadata": {},
   "outputs": [
    {
     "data": {
      "image/png": "[encoded data removed]",
      "text/plain": [
       "<Figure size 600x600 with 1 Axes>"
      ]
     },
     "metadata": {},
     "output_type": "display_data"
    }
   ],
   "source": [
    "plot_roc_curve(y_true, y_pred)"
   ]
  },
  {
   "cell_type": "code",
   "execution_count": 23,
   "id": "0274ced2",
   "metadata": {},
   "outputs": [],
   "source": [
    "def Gain_Lift_Chart(test_y, y_pred, n_bins=10):\n",
    "    # sort the actual values in descending order of the prediction\n",
    "    df = pd.DataFrame({'test_y': test_y, 'y_pred': y_pred})\n",
    "    df = df.sort_values(by='y_pred', ascending=False).reset_index(drop=True)\n",
    "    \n",
    "    df['decile'] = pd.qcut(df.index, q=n_bins, labels=False)\n",
    "\n",
    "    df['cumulative_positives'] = df['test_y'].cumsum()\n",
    "    total_positives = df['test_y'].sum()\n",
    "    df['gain'] = df['cumulative_positives'] / total_positives\n",
    "\n",
    "    lift = []\n",
    "    for i in range(n_bins):\n",
    "        group = df[df['decile'] == i]\n",
    "        if not group.empty:\n",
    "            lift.append(group['test_y'].mean() / df['test_y'].mean())\n",
    "        else:\n",
    "            lift.append(0)\n",
    "\n",
    "    fig, axs = plt.subplots(1, 2, figsize=(12, 5))\n",
    "\n",
    "    axs[0].plot(np.linspace(0, 100, len(df)), df['gain'] * 100, label='Model')\n",
    "    axs[0].plot([0, 100], [0, 100], '--', color='gray', label='Random')\n",
    "    axs[0].set_title('Gains Chart')\n",
    "    axs[0].set_xlabel('% Echantillon')\n",
    "    axs[0].set_ylabel('% Positive')\n",
    "    axs[0].legend()\n",
    "    axs[0].grid(True)\n",
    "\n",
    "    axs[1].bar(range(1, n_bins + 1), lift)\n",
    "    axs[1].set_title('Lift Chart')\n",
    "    axs[1].set_xlabel('Decile (1 = top 10%)')\n",
    "    axs[1].set_ylabel('Lift')\n",
    "    axs[1].grid(True)\n",
    "\n",
    "    plt.tight_layout()\n",
    "    plt.show()\n",
    "\n",
    "    \n",
    "    # group the sorted predictions into 10 roughly equal groups and calculate the mean\n",
    "    sorted_act_v = df['test_y']\n",
    "    groups = [int(10 * i / len(sorted_act_v)) for i in range(len(sorted_act_v))]\n",
    "    meanPercentile = sorted_act_v.groupby(groups).mean()\n",
    "    meanResponse = meanPercentile / sorted_act_v.mean()\n",
    "    meanResponse.index = (meanResponse.index + 1) * 10\n",
    "    print('Lift based on meanResponse', meanResponse[10])\n",
    "    random10 = sorted_act_v.cumsum().iloc[-1] / 10  # expected cumulative price without lift for 10% sales\n",
    "    cumPred10 = sorted_act_v.cumsum().iloc[-1]/10  # cumulative price based on model for top 10%\n",
    "    print('Expected cumulative price for 10% random sales', random10)\n",
    "    print('Lift calculated based on gains chart', cumPred10 / random10)\n",
    "    \n",
    "    print(f\"Lift du premier décile (top 10%) : {lift[0]:.2f}\")\n"
   ]
  },
  {
   "cell_type": "code",
   "execution_count": 24,
   "id": "986b0166",
   "metadata": {},
   "outputs": [
    {
     "data": {
      "image/png": "[encoded data removed]",
      "text/plain": [
       "<Figure size 1200x500 with 2 Axes>"
      ]
     },
     "metadata": {},
     "output_type": "display_data"
    },
    {
     "name": "stdout",
     "output_type": "stream",
     "text": [
      "Lift based on meanResponse 3.974358974358975\n",
      "Expected cumulative price for 10% random sales 3.9\n",
      "Lift calculated based on gains chart 1.0\n",
      "Lift du premier décile (top 10%) : 3.97\n"
     ]
    }
   ],
   "source": [
    "Gain_Lift_Chart(y_true, y_pred)"
   ]
  },
  {
   "cell_type": "code",
   "execution_count": 25,
   "id": "238694ba",
   "metadata": {},
   "outputs": [
    {
     "name": "stdout",
     "output_type": "stream",
     "text": [
      "MSE on validation : 0.0850\n",
      "RMSE on validation : 0.2916\n",
      "MAE on validation : 0.2202\n"
     ]
    }
   ],
   "source": [
    "rmse = np.sqrt(mean_squared_error(y_true, y_pred))\n",
    "mae = mean_absolute_error(y_true, y_pred)\n",
    "mse = mean_squared_error(y_true, y_pred)\n",
    "print(f\"MSE on validation : {mse:.4f}\")\n",
    "print(f\"RMSE on validation : {rmse:.4f}\")\n",
    "print(f\"MAE on validation : {mae:.4f}\")\n"
   ]
  },
  {
   "cell_type": "markdown",
   "id": "f5cef0b5",
   "metadata": {},
   "source": [
    "Loop for testing other models (already implemented) :"
   ]
  },
  {
   "cell_type": "code",
   "execution_count": null,
   "id": "3c50b5d6",
   "metadata": {},
   "outputs": [],
   "source": [
    "models = {\n",
    "    \"knn\" : ;\n",
    "    \"log regression\" : ;\n",
    "    \"decision tree\" : ;\n",
    "}"
   ]
  },
  {
   "cell_type": "code",
   "execution_count": null,
   "id": "3fa840dd",
   "metadata": {},
   "outputs": [],
   "source": []
  }
 ],
 "metadata": {
  "kernelspec": {
   "display_name": "Python 3 (ipykernel)",
   "language": "python",
   "name": "python3"
  },
  "language_info": {
   "codemirror_mode": {
    "name": "ipython",
    "version": 3
   },
   "file_extension": ".py",
   "mimetype": "text/x-python",
   "name": "python",
   "nbconvert_exporter": "python",
   "pygments_lexer": "ipython3",
   "version": "3.11.5"
  }
 },
 "nbformat": 4,
 "nbformat_minor": 5
}

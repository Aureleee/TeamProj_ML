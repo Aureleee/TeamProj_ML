{
 "cells": [
  {
   "cell_type": "code",
   "execution_count": 1,
   "metadata": {},
   "outputs": [],
   "source": [
    "import pandas as pd\n",
    "import numpy as np\n",
    "import matplotlib.pyplot as plt\n",
    "from sklearn.model_selection import KFold\n",
    "from sklearn.model_selection import train_test_split\n",
    "from sklearn.neighbors import KNeighborsClassifier\n",
    "from sklearn.ensemble import RandomForestClassifier\n",
    "from sklearn.naive_bayes import GaussianNB\n",
    "from sklearn.ensemble import VotingClassifier\n",
    "from sklearn.linear_model import LogisticRegression # 메타 모델\n",
    "from sklearn.metrics import confusion_matrix, classification_report\n",
    "from sklearn.metrics import mean_absolute_error, mean_squared_error, r2_score, roc_curve, roc_auc_score, classification_report\n",
    "import seaborn as sns"
   ]
  },
  {
   "cell_type": "code",
   "execution_count": 2,
   "metadata": {},
   "outputs": [],
   "source": [
    "def draw_ROC_curve(pred_positive_label, y_data):\n",
    "    fpr, tpr, thresholds = roc_curve(y_data, pred_positive_label)\n",
    "    precisions, recalls, thresholds = roc_curve(y_data, pred_positive_label)\n",
    "    plt.figure(figsize=(5, 5))\n",
    "    plt.plot([0, 1], [0, 1], label='Random (AUC = 0.5)')\n",
    "    plt.plot(fpr, tpr, label='ROC (AUC = ' + str(round(roc_auc_score(y_data, pred_positive_label), 4)) + ')')\n",
    "    plt.xlabel('False Positive Rate')\n",
    "    plt.ylabel('True Positive Rate')\n",
    "    plt.title('ROC curve')\n",
    "    plt.legend()\n",
    "    plt.grid()\n",
    "    plt.show()\n",
    "\n",
    "def model_evaluation(y_data, predicted):\n",
    "    MSE = mean_squared_error(y_data, predicted)\n",
    "    RMSE = np.sqrt(MSE)\n",
    "    MAE = mean_absolute_error(y_data, predicted)\n",
    "    print(f'MSE on validation : {MSE:.4f}')\n",
    "    print(f'RMSE on validation : {RMSE:.4f}')\n",
    "    print(f'MAE on validation : {MAE:.4f}')\n",
    "    \n",
    "def draw_confusion_matrix(ground_truth, predicted):\n",
    "    matrix = pd.DataFrame(confusion_matrix(ground_truth, predicted))\n",
    "    matrix.index = ['Real 0', 'Real 1']\n",
    "    matrix.columns = ['Predict 0', 'Predict 1']\n",
    "    plt.figure(figsize=(2, 2))\n",
    "    sns.heatmap(matrix, annot=True, fmt=\"d\", cmap=\"Blues\", cbar=False, linewidths=0.5, linecolor='gray')\n",
    "    plt.title(\"Confusion matrix\", fontsize=14)\n",
    "    plt.xlabel(\"y_pred (predicted)\")\n",
    "    plt.ylabel(\"test_y (actual values)\")\n",
    "    plt.tight_layout()\n",
    "    plt.show()\n",
    "\n",
    "    accuracy = (matrix.iloc[1,1]+ matrix.iloc[0,0]) / matrix.values.sum()\n",
    "    precision = (matrix.iloc[1,1] / matrix.iloc[1,1] + matrix.iloc[0,1]) if (matrix.iloc[1,1] + matrix.iloc[0,1]) > 0 else 0\n",
    "    recall = (matrix.iloc[1,1] / matrix.iloc[1,1] + matrix.iloc[1,0]) if (matrix.iloc[1,1] + matrix.iloc[1,0]) > 0 else 0\n",
    "    f1 = 2 * (precision * recall) / (precision + recall) if (precision + recall) > 0 else 0\n",
    "\n",
    "    print(f\"\\nAccuracy:  {accuracy:.2f}\")\n",
    "    print(f\"Precision: {precision:.2f}\")\n",
    "    print(f\"Recall:    {recall:.2f}\")\n",
    "    print(f\"F1 score:  {f1:.2f}\\n\")\n",
    "    \n",
    "def Gain_Lift_Chart(test_y, y_pred, n_bins=10):\n",
    "    # sort the actual values in descending order of the prediction\n",
    "    df = pd.DataFrame({'test_y': test_y, 'y_pred': y_pred})\n",
    "    df = df.sort_values(by='y_pred', ascending=False).reset_index(drop=True)\n",
    "\n",
    "    df['decile'] = pd.qcut(df.index, q=n_bins, labels=False)\n",
    "    df['cumulative_positives'] = df['test_y'].cumsum()\n",
    "    total_positives = df['test_y'].sum()\n",
    "    df['gain'] = df['cumulative_positives'] / total_positives\n",
    "\n",
    "    lift = []\n",
    "    for i in range(n_bins):\n",
    "        group = df[df['decile'] == i]\n",
    "        if not group.empty:\n",
    "            lift.append(group['test_y'].mean() / df['test_y'].mean())\n",
    "        else:\n",
    "            lift.append(0)\n",
    "\n",
    "    fig, axs = plt.subplots(1, 2, figsize=(12, 5))\n",
    "    axs[0].plot(np.linspace(0, 100, len(df)), df['gain'] * 100, label='Model')\n",
    "    axs[0].plot([0, 100], [0, 100], '--', color='gray', label='Random')\n",
    "    axs[0].set_title('Gains Chart')\n",
    "    axs[0].set_xlabel('% Echantillon')\n",
    "    axs[0].set_ylabel('% Positive')\n",
    "    axs[0].legend()\n",
    "    axs[0].grid(True)\n",
    "    axs[1].bar(range(1, n_bins + 1), lift)\n",
    "    axs[1].set_title('Lift Chart')\n",
    "    axs[1].set_xlabel('Decile (1 = top 10%)')\n",
    "    axs[1].set_ylabel('Lift')\n",
    "    axs[1].grid(True)\n",
    "    plt.tight_layout()\n",
    "    plt.show()\n",
    "\n",
    "    # group the sorted predictions into 10 roughly equal groups and calculate the mean\n",
    "    sorted_act_v = df['test_y']\n",
    "    groups = [int(10 * i / len(sorted_act_v)) for i in range(len(sorted_act_v))]\n",
    "    meanPercentile = sorted_act_v.groupby(groups).mean()\n",
    "    meanResponse = meanPercentile / sorted_act_v.mean()\n",
    "    meanResponse.index = (meanResponse.index + 1) * 10\n",
    "    print('Lift based on meanResponse', meanResponse[10])\n",
    "    random10 = sorted_act_v.cumsum().iloc[-1] / 10  # expected cumulative price without lift for 10% sales\n",
    "    cumPred10 = sorted_act_v.cumsum().iloc[-1]  # cumulative price based on model for top 10%\n",
    "    print('Expected cumulative price for 10% random sales', random10)\n",
    "    print(f\"Lift of the first decile (top 10%) : {lift[0]:.2f}\")"
   ]
  },
  {
   "cell_type": "code",
   "execution_count": 3,
   "metadata": {},
   "outputs": [],
   "source": [
    "def get_stacking_base_datasets(model, X_train_n, y_train_n, X_test_n, n_folds):\n",
    "    kf = KFold(n_splits=n_folds, shuffle=True, random_state=42)\n",
    "    # 빈 배열 생성\n",
    "    train_fold_pred = np.zeros((X_train_n.shape[0],1))\n",
    "    test_pred = np.zeros((X_test_n.shape[0],n_folds))\n",
    "    \n",
    "    \n",
    "    for folder_counter, (train_index, valid_index) in enumerate(kf.split(X_train_n)):\n",
    "        X_tr = X_train_n.iloc[train_index]\n",
    "        y_tr = y_train_n.iloc[train_index]\n",
    "        X_te = X_train_n.iloc[valid_index] \n",
    "        \n",
    "        # 폴드 내 모델 학습\n",
    "        model.fit(X_tr, y_tr)\n",
    "        train_fold_pred[valid_index, :] = model.predict(X_te).reshape(-1,1) # y_train 예측, 폴드 끝나면 concat해야함\n",
    "        test_pred[:, folder_counter] = model.predict(X_test_n) # y_test 예측, 폴드 끝나면 평균 낼거임\n",
    "        \n",
    "    test_pred_mean = np.mean(test_pred, axis=1).reshape(-1,1)\n",
    "    \n",
    "    return train_fold_pred, test_pred_mean # 하나의 모델에 대한 학습데이터, 테스트 데이터 생성"
   ]
  },
  {
   "cell_type": "code",
   "execution_count": 4,
   "metadata": {
    "scrolled": true
   },
   "outputs": [
    {
     "data": {
      "text/html": [
       "<div>\n",
       "<style scoped>\n",
       "    .dataframe tbody tr th:only-of-type {\n",
       "        vertical-align: middle;\n",
       "    }\n",
       "\n",
       "    .dataframe tbody tr th {\n",
       "        vertical-align: top;\n",
       "    }\n",
       "\n",
       "    .dataframe thead th {\n",
       "        text-align: right;\n",
       "    }\n",
       "</style>\n",
       "<table border=\"1\" class=\"dataframe\">\n",
       "  <thead>\n",
       "    <tr style=\"text-align: right;\">\n",
       "      <th></th>\n",
       "      <th>id</th>\n",
       "      <th>date</th>\n",
       "      <th>pressure</th>\n",
       "      <th>maxtemp</th>\n",
       "      <th>temparature</th>\n",
       "      <th>mintemp</th>\n",
       "      <th>dewpoint</th>\n",
       "      <th>humidity</th>\n",
       "      <th>cloud</th>\n",
       "      <th>sunshine</th>\n",
       "      <th>winddirection</th>\n",
       "      <th>windspeed</th>\n",
       "      <th>rainfall</th>\n",
       "    </tr>\n",
       "  </thead>\n",
       "  <tbody>\n",
       "    <tr>\n",
       "      <th>0</th>\n",
       "      <td>0</td>\n",
       "      <td>-1.727310</td>\n",
       "      <td>0.627599</td>\n",
       "      <td>-0.727087</td>\n",
       "      <td>-0.723225</td>\n",
       "      <td>-0.695913</td>\n",
       "      <td>-0.524695</td>\n",
       "      <td>0.137597</td>\n",
       "      <td>-0.107539</td>\n",
       "      <td>-0.901998</td>\n",
       "      <td>-1.059927</td>\n",
       "      <td>-0.638778</td>\n",
       "      <td>0.0</td>\n",
       "    </tr>\n",
       "    <tr>\n",
       "      <th>1</th>\n",
       "      <td>1</td>\n",
       "      <td>-1.717827</td>\n",
       "      <td>0.002677</td>\n",
       "      <td>-1.007530</td>\n",
       "      <td>-0.846763</td>\n",
       "      <td>-0.949539</td>\n",
       "      <td>-0.449288</td>\n",
       "      <td>0.863480</td>\n",
       "      <td>0.210894</td>\n",
       "      <td>-0.927396</td>\n",
       "      <td>0.808150</td>\n",
       "      <td>1.825426</td>\n",
       "      <td>1.0</td>\n",
       "    </tr>\n",
       "    <tr>\n",
       "      <th>2</th>\n",
       "      <td>2</td>\n",
       "      <td>-1.708344</td>\n",
       "      <td>0.482800</td>\n",
       "      <td>-1.643202</td>\n",
       "      <td>-1.454951</td>\n",
       "      <td>-1.297100</td>\n",
       "      <td>-1.362541</td>\n",
       "      <td>-0.494190</td>\n",
       "      <td>-1.285743</td>\n",
       "      <td>-0.114649</td>\n",
       "      <td>0.994958</td>\n",
       "      <td>0.661774</td>\n",
       "      <td>0.0</td>\n",
       "    </tr>\n",
       "    <tr>\n",
       "      <th>3</th>\n",
       "      <td>3</td>\n",
       "      <td>-1.698860</td>\n",
       "      <td>0.642841</td>\n",
       "      <td>-1.250581</td>\n",
       "      <td>-1.217378</td>\n",
       "      <td>-1.268920</td>\n",
       "      <td>-1.262000</td>\n",
       "      <td>-0.863852</td>\n",
       "      <td>-0.330443</td>\n",
       "      <td>-1.079786</td>\n",
       "      <td>-1.246735</td>\n",
       "      <td>-1.323279</td>\n",
       "      <td>0.0</td>\n",
       "    </tr>\n",
       "    <tr>\n",
       "      <th>4</th>\n",
       "      <td>4</td>\n",
       "      <td>-1.689377</td>\n",
       "      <td>0.177960</td>\n",
       "      <td>-1.222537</td>\n",
       "      <td>-0.979804</td>\n",
       "      <td>-0.855604</td>\n",
       "      <td>-0.440910</td>\n",
       "      <td>1.488546</td>\n",
       "      <td>1.643844</td>\n",
       "      <td>-1.486160</td>\n",
       "      <td>-1.059927</td>\n",
       "      <td>0.182624</td>\n",
       "      <td>1.0</td>\n",
       "    </tr>\n",
       "  </tbody>\n",
       "</table>\n",
       "</div>"
      ],
      "text/plain": [
       "   id      date  pressure   maxtemp  temparature   mintemp  dewpoint  \\\n",
       "0   0 -1.727310  0.627599 -0.727087    -0.723225 -0.695913 -0.524695   \n",
       "1   1 -1.717827  0.002677 -1.007530    -0.846763 -0.949539 -0.449288   \n",
       "2   2 -1.708344  0.482800 -1.643202    -1.454951 -1.297100 -1.362541   \n",
       "3   3 -1.698860  0.642841 -1.250581    -1.217378 -1.268920 -1.262000   \n",
       "4   4 -1.689377  0.177960 -1.222537    -0.979804 -0.855604 -0.440910   \n",
       "\n",
       "   humidity     cloud  sunshine  winddirection  windspeed  rainfall  \n",
       "0  0.137597 -0.107539 -0.901998      -1.059927  -0.638778       0.0  \n",
       "1  0.863480  0.210894 -0.927396       0.808150   1.825426       1.0  \n",
       "2 -0.494190 -1.285743 -0.114649       0.994958   0.661774       0.0  \n",
       "3 -0.863852 -0.330443 -1.079786      -1.246735  -1.323279       0.0  \n",
       "4  1.488546  1.643844 -1.486160      -1.059927   0.182624       1.0  "
      ]
     },
     "execution_count": 4,
     "metadata": {},
     "output_type": "execute_result"
    }
   ],
   "source": [
    "train = pd.read_csv('../randomforest/kma_train.csv')\n",
    "train.head()"
   ]
  },
  {
   "cell_type": "code",
   "execution_count": 5,
   "metadata": {},
   "outputs": [],
   "source": [
    "X_train, X_test, y_train, y_test = train_test_split(train.drop(columns=['id', 'rainfall']), \n",
    "                                                    train['rainfall'], test_size=0.2, random_state=42)"
   ]
  },
  {
   "cell_type": "code",
   "execution_count": 6,
   "metadata": {
    "scrolled": false
   },
   "outputs": [
    {
     "data": {
      "text/plain": [
       "VotingClassifier(estimators=[('rf1',\n",
       "                              RandomForestClassifier(max_depth=15,\n",
       "                                                     min_samples_split=10,\n",
       "                                                     n_estimators=200,\n",
       "                                                     random_state=42)),\n",
       "                             ('rf2',\n",
       "                              RandomForestClassifier(max_depth=15,\n",
       "                                                     n_estimators=200,\n",
       "                                                     random_state=42)),\n",
       "                             ('rf3',\n",
       "                              RandomForestClassifier(max_depth=15,\n",
       "                                                     min_samples_split=10,\n",
       "                                                     n_estimators=50,\n",
       "                                                     random_state=42))],\n",
       "                 voting='soft')"
      ]
     },
     "execution_count": 6,
     "metadata": {},
     "output_type": "execute_result"
    }
   ],
   "source": [
    "rf1 = RandomForestClassifier(criterion='gini', max_depth=15,\n",
    "                             min_samples_split=10, n_estimators=200, random_state=42)\n",
    "rf1.fit(X_train, y_train)\n",
    "\n",
    "rf2 = RandomForestClassifier(criterion='gini', max_depth=15,\n",
    "                             min_samples_split=2, n_estimators=200, random_state=42)\n",
    "rf2.fit(X_train, y_train)\n",
    "rf3 = RandomForestClassifier(criterion='gini', max_depth=15,\n",
    "                             min_samples_split=10, n_estimators=50, random_state=42)\n",
    "rf3.fit(X_train, y_train)\n",
    "\n",
    "model_rf = VotingClassifier(estimators=[('rf1', rf1), ('rf2', rf2), ('rf3', rf3)],\n",
    "    voting='soft')\n",
    "model_rf.fit(X_train, y_train)"
   ]
  },
  {
   "cell_type": "code",
   "execution_count": 7,
   "metadata": {
    "scrolled": true
   },
   "outputs": [],
   "source": [
    "# 1. Base 모델 정의\n",
    "knn_clf = KNeighborsClassifier(n_neighbors=13, p=2, weights='distance')\n",
    "rf_clf = RandomForestClassifier()\n",
    "lr_final = LogisticRegression()\n",
    "nb_clf = GaussianNB()\n",
    "\n",
    "# 2. stacking용 예측값 생성\n",
    "knn_train, knn_test = get_stacking_base_datasets(knn_clf, X_train, y_train, X_test, n_folds=5)\n",
    "rf_train, rf_test = get_stacking_base_datasets(rf_clf, X_train, y_train, X_test, n_folds=5)\n",
    "nb_train, nb_test = get_stacking_base_datasets(nb_clf, X_train, y_train, X_test, 5)\n",
    "\n",
    "# 3. 각 base 모델 예측값을 결합\n",
    "Stack_X_train = np.concatenate((knn_train, rf_train, nb_train), axis=1)\n",
    "Stack_X_test = np.concatenate((knn_test, rf_test, nb_test), axis=1)\n",
    "\n",
    "# 4. 메타 모델 학습 및 예측\n",
    "lr_final.fit(Stack_X_train, y_train)\n",
    "stack_final = lr_final.predict(Stack_X_test)\n",
    "stack_proba = lr_final.predict_proba(Stack_X_test)[:, 1]"
   ]
  },
  {
   "cell_type": "code",
   "execution_count": 8,
   "metadata": {
    "scrolled": true
   },
   "outputs": [
    {
     "data": {
      "image/png": "[encoded data removed]",
      "text/plain": [
       "<Figure size 360x360 with 1 Axes>"
      ]
     },
     "metadata": {
      "needs_background": "light"
     },
     "output_type": "display_data"
    }
   ],
   "source": [
    "draw_ROC_curve(stack_proba, y_test)"
   ]
  },
  {
   "cell_type": "code",
   "execution_count": 9,
   "metadata": {
    "scrolled": true
   },
   "outputs": [
    {
     "name": "stdout",
     "output_type": "stream",
     "text": [
      "MSE on validation : 0.1071\n",
      "RMSE on validation : 0.3273\n",
      "MAE on validation : 0.2166\n"
     ]
    }
   ],
   "source": [
    "model_evaluation(y_test, stack_proba)"
   ]
  },
  {
   "cell_type": "code",
   "execution_count": 10,
   "metadata": {},
   "outputs": [],
   "source": [
    "test = pd.read_csv('../randomforest/kma_test.csv')\n",
    "test_input = test.drop(columns=['id', 'rainfall'])\n",
    "test_output = test['rainfall']"
   ]
  },
  {
   "cell_type": "code",
   "execution_count": 11,
   "metadata": {},
   "outputs": [],
   "source": [
    "knn_pred = knn_clf.predict_proba(test_input)[:, 1].reshape(-1, 1)\n",
    "rf_pred  = rf_clf.predict_proba(test_input)[:, 1].reshape(-1, 1)\n",
    "nb_pred  = nb_clf.predict_proba(test_input)[:, 1].reshape(-1, 1)\n",
    "\n",
    "# stacking용 입력 생성\n",
    "test_stack_input = np.concatenate((knn_pred, rf_pred, nb_pred), axis=1)\n",
    "\n",
    "# 메타 모델 예측\n",
    "stack_pred = lr_final.predict(test_stack_input)\n",
    "stack_proba_2 = lr_final.predict_proba(test_stack_input)[:, 1]"
   ]
  },
  {
   "cell_type": "code",
   "execution_count": 12,
   "metadata": {},
   "outputs": [],
   "source": [
    "predict = lr_final.predict(test_stack_input)"
   ]
  },
  {
   "cell_type": "code",
   "execution_count": 13,
   "metadata": {
    "scrolled": true
   },
   "outputs": [
    {
     "data": {
      "image/png": "[encoded data removed]",
      "text/plain": [
       "<Figure size 144x144 with 1 Axes>"
      ]
     },
     "metadata": {
      "needs_background": "light"
     },
     "output_type": "display_data"
    },
    {
     "name": "stdout",
     "output_type": "stream",
     "text": [
      "\n",
      "Accuracy:  0.89\n",
      "Precision: 10.00\n",
      "Recall:    9.00\n",
      "F1 score:  9.47\n",
      "\n"
     ]
    }
   ],
   "source": [
    "draw_confusion_matrix(test_output, predict)"
   ]
  },
  {
   "cell_type": "code",
   "execution_count": 14,
   "metadata": {
    "scrolled": false
   },
   "outputs": [
    {
     "data": {
      "image/png": "[encoded data removed]",
      "text/plain": [
       "<Figure size 360x360 with 1 Axes>"
      ]
     },
     "metadata": {
      "needs_background": "light"
     },
     "output_type": "display_data"
    }
   ],
   "source": [
    "draw_ROC_curve(predict, test_output)"
   ]
  },
  {
   "cell_type": "code",
   "execution_count": 15,
   "metadata": {},
   "outputs": [
    {
     "data": {
      "image/png": "[encoded data removed]",
      "text/plain": [
       "<Figure size 864x360 with 2 Axes>"
      ]
     },
     "metadata": {
      "needs_background": "light"
     },
     "output_type": "display_data"
    },
    {
     "name": "stdout",
     "output_type": "stream",
     "text": [
      "Lift based on meanResponse 2.732371794871795\n",
      "Expected cumulative price for 10% random sales 3.9\n",
      "Lift of the first decile (top 10%) : 2.73\n"
     ]
    }
   ],
   "source": [
    "Gain_Lift_Chart(test_output, predict)"
   ]
  },
  {
   "cell_type": "code",
   "execution_count": null,
   "metadata": {},
   "outputs": [],
   "source": []
  }
 ],
 "metadata": {
  "kernelspec": {
   "display_name": "Python 3",
   "language": "python",
   "name": "python3"
  },
  "language_info": {
   "codemirror_mode": {
    "name": "ipython",
    "version": 3
   },
   "file_extension": ".py",
   "mimetype": "text/x-python",
   "name": "python",
   "nbconvert_exporter": "python",
   "pygments_lexer": "ipython3",
   "version": "3.8.5"
  }
 },
 "nbformat": 4,
 "nbformat_minor": 4
}

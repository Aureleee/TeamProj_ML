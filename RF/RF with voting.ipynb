{
 "cells": [
  {
   "cell_type": "code",
   "execution_count": 1,
   "metadata": {},
   "outputs": [],
   "source": [
    "import pandas as pd\n",
    "import numpy as np\n",
    "from sklearn.ensemble import RandomForestClassifier\n",
    "from sklearn.model_selection import KFold\n",
    "from sklearn.metrics import confusion_matrix, classification_report\n",
    "import seaborn as sns\n",
    "import matplotlib.pyplot as plt\n",
    "from scipy.stats import mode"
   ]
  },
  {
   "cell_type": "code",
   "execution_count": 2,
   "metadata": {},
   "outputs": [],
   "source": [
    "train = pd.read_csv('randomforest/train_processed.csv')\n",
    "test = pd.read_csv('randomforest/test_processed.csv')"
   ]
  },
  {
   "cell_type": "code",
   "execution_count": 3,
   "metadata": {},
   "outputs": [],
   "source": [
    "X_train = train.drop(['id','day','rainfall'], axis=1)\n",
    "Y_train = train['rainfall']\n",
    "X_test = test.drop(['id','day'], axis=1)"
   ]
  },
  {
   "cell_type": "code",
   "execution_count": 5,
   "metadata": {
    "scrolled": true
   },
   "outputs": [
    {
     "name": "stdout",
     "output_type": "stream",
     "text": [
      "    Max Depth  Average Accuracy\n",
      "0           1          0.825152\n",
      "1           2          0.822424\n",
      "2           3          0.831212\n",
      "3           4          0.839394\n",
      "4           5          0.845455\n",
      "5           6          0.853333\n",
      "6           7          0.856667\n",
      "7           8          0.861818\n",
      "8           9          0.871515\n",
      "9          10          0.878182\n",
      "10         11          0.885152\n",
      "11         12          0.886364\n",
      "12         13          0.889394\n",
      "13         14          0.893030\n",
      "14         15          0.890606\n",
      "15         16          0.891818\n",
      "16         17          0.895152\n",
      "17         18          0.892424\n",
      "18         19          0.896061\n",
      "19         20          0.899697\n",
      "20         21          0.893333\n"
     ]
    }
   ],
   "source": [
    "# finding the best max_depth\n",
    "cv = KFold(n_splits=5, shuffle=True, random_state=42)\n",
    "accs = []\n",
    "depth_range = range(1, 22)\n",
    "\n",
    "for depth in depth_range:\n",
    "    fold_accuracy = []\n",
    "    rand_clf = RandomForestClassifier(criterion='entropy', max_depth = depth)\n",
    "    \n",
    "    for t_idx, v_idx in cv.split(X_train):\n",
    "        X_train_cv, X_valid_cv = X_train.iloc[t_idx], X_train.iloc[v_idx]\n",
    "        Y_train_cv, Y_valid_cv = Y_train.iloc[t_idx], Y_train.iloc[v_idx]\n",
    "\n",
    "        model = rand_clf.fit(X_train_cv, Y_train_cv)\n",
    "        acc = model.score(X_valid_cv, Y_valid_cv)\n",
    "        fold_accuracy.append(acc)\n",
    "\n",
    "    avg = np.mean(fold_accuracy)\n",
    "    accs.append(avg)\n",
    "\n",
    "\n",
    "df = pd.DataFrame({\"Max Depth\": depth_range, \"Average Accuracy\": accs})\n",
    "print(df)"
   ]
  },
  {
   "cell_type": "code",
   "execution_count": 21,
   "metadata": {},
   "outputs": [
    {
     "name": "stdout",
     "output_type": "stream",
     "text": [
      "    Max Depth  Average Accuracy\n",
      "19         20          0.899697\n",
      "18         19          0.896061\n",
      "16         17          0.895152\n",
      "20         21          0.893333\n",
      "13         14          0.893030\n",
      "17         18          0.892424\n",
      "15         16          0.891818\n",
      "14         15          0.890606\n",
      "12         13          0.889394\n",
      "11         12          0.886364\n",
      "10         11          0.885152\n",
      "9          10          0.878182\n",
      "8           9          0.871515\n",
      "7           8          0.861818\n",
      "6           7          0.856667\n",
      "5           6          0.853333\n",
      "4           5          0.845455\n",
      "3           4          0.839394\n",
      "2           3          0.831212\n",
      "0           1          0.825152\n",
      "1           2          0.822424\n"
     ]
    }
   ],
   "source": [
    "sorted_df = df.sort_values(by='Average Accuracy', ascending=False)\n",
    "print(sorted_df)"
   ]
  },
  {
   "cell_type": "code",
   "execution_count": 15,
   "metadata": {},
   "outputs": [],
   "source": [
    "# Divided the range (1,22) into intervals (ex: 1-3, 4-6, 7-9, ...) then selected\n",
    "# the model with best accuracy from each intervals\n",
    "\n",
    "depth_candidates = [3,6,9,12,14,17,20] \n",
    "\n",
    "# or just choose top 5 candidates with the most accuracy\n",
    "# depth_candidates = [20, 19, 17, 21, 14] \n",
    "\n",
    "# hard voting (vote for 0 or 1)\n",
    "\n",
    "predictions = []\n",
    "\n",
    "for depth in depth_candidates:\n",
    "    model = RandomForestClassifier(criterion='entropy', max_depth=depth, random_state=42)\n",
    "    model.fit(X_train, Y_train)\n",
    "    pred = model.predict(X_test)  # X_test는 테스트 데이터\n",
    "    predictions.append(pred)\n",
    "\n",
    "predictions = np.array(predictions)  # (n_models, n_samples)\n",
    "\n",
    "voted_preds, _ = mode(predictions, axis=0)\n",
    "voted_preds = voted_preds.flatten()"
   ]
  },
  {
   "cell_type": "code",
   "execution_count": 12,
   "metadata": {},
   "outputs": [],
   "source": [
    "# soft voting (average percentage of candidates)\n",
    "\n",
    "probs = []\n",
    "\n",
    "for depth in depth_candidates:\n",
    "    model = RandomForestClassifier(criterion='entropy', max_depth=depth, random_state=42)\n",
    "    model.fit(X_train, Y_train)\n",
    "    proba = model.predict_proba(X_test)  # (n_samples, n_classes)\n",
    "    probs.append(proba)\n",
    "    \n",
    "avg_proba = np.mean(probs, axis=0)  # (n_samples, n_classes)\n",
    "rainfall_prob = avg_proba[:, 1]"
   ]
  },
  {
   "cell_type": "code",
   "execution_count": 14,
   "metadata": {},
   "outputs": [],
   "source": [
    "submission = test[['id']].copy()\n",
    "submission['rainfall'] = rainfall_prob\n",
    "submission.to_csv('submission_with_prob.csv', index=False)"
   ]
  },
  {
   "cell_type": "code",
   "execution_count": 10,
   "metadata": {},
   "outputs": [],
   "source": [
    "submission_hv = test[['id']].copy()\n",
    "submission_hv['rainfall'] = voted_preds\n",
    "submission_hv.to_csv('rf_hard_voting_submission.csv', index=False)"
   ]
  }
 ],
 "metadata": {
  "kernelspec": {
   "display_name": "Python 3",
   "language": "python",
   "name": "python3"
  },
  "language_info": {
   "codemirror_mode": {
    "name": "ipython",
    "version": 3
   },
   "file_extension": ".py",
   "mimetype": "text/x-python",
   "name": "python",
   "nbconvert_exporter": "python",
   "pygments_lexer": "ipython3",
   "version": "3.8.5"
  }
 },
 "nbformat": 4,
 "nbformat_minor": 4
}

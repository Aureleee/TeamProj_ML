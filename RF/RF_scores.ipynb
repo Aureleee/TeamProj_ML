{
 "cells": [
  {
   "cell_type": "code",
   "execution_count": 1,
   "metadata": {},
   "outputs": [],
   "source": [
    "import pandas as pd\n",
    "import numpy as np\n",
    "from sklearn.ensemble import RandomForestClassifier\n",
    "from sklearn.model_selection import GridSearchCV\n",
    "from sklearn.model_selection import KFold\n",
    "from sklearn.model_selection import train_test_split\n",
    "from sklearn.metrics import confusion_matrix, classification_report\n",
    "import seaborn as sns\n",
    "import matplotlib.pyplot as plt\n",
    "from scipy.stats import mode\n",
    "from sklearn.metrics import mean_squared_error, r2_score, roc_curve, roc_auc_score, classification_report\n",
    "from sklearn.model_selection import RandomizedSearchCV\n",
    "from scipy.stats import randint\n",
    "from sklearn.ensemble import VotingClassifier"
   ]
  },
  {
   "cell_type": "code",
   "execution_count": 2,
   "metadata": {},
   "outputs": [],
   "source": [
    "def draw_ROC_curve(pred_positive_label, y_data):\n",
    "  fpr, tpr, thresholds = roc_curve(y_data, pred_positive_label)\n",
    "  precisions, recalls, thresholds = roc_curve(y_data, pred_positive_label)\n",
    "  plt.figure(figsize=(15, 5))\n",
    "  plt.plot([0, 1], [0, 1], label='STR')\n",
    "  plt.plot(fpr, tpr, label='ROC')\n",
    "  plt.xlabel('False Positive Rate')\n",
    "  plt.ylabel('True Positive Rate')\n",
    "  plt.legend()\n",
    "  plt.grid()\n",
    "  plt.show()\n",
    "  print('roc_auc_score:', roc_auc_score(y_data, pred_positive_label))\n",
    "\n",
    "def model_evaluation(y_data, predicted):\n",
    "  print(\"MSE:\", (mean_squared_error(y_data, predicted)))\n",
    "  print(\"r2_score:\", r2_score(y_data, predicted))\n",
    "  print(classification_report(y_data, predicted))"
   ]
  },
  {
   "cell_type": "code",
   "execution_count": 3,
   "metadata": {
    "scrolled": false
   },
   "outputs": [],
   "source": [
    "train = pd.read_csv('../randomforest/train_processed.csv')"
   ]
  },
  {
   "cell_type": "code",
   "execution_count": 4,
   "metadata": {},
   "outputs": [
    {
     "data": {
      "text/html": [
       "<div>\n",
       "<style scoped>\n",
       "    .dataframe tbody tr th:only-of-type {\n",
       "        vertical-align: middle;\n",
       "    }\n",
       "\n",
       "    .dataframe tbody tr th {\n",
       "        vertical-align: top;\n",
       "    }\n",
       "\n",
       "    .dataframe thead th {\n",
       "        text-align: right;\n",
       "    }\n",
       "</style>\n",
       "<table border=\"1\" class=\"dataframe\">\n",
       "  <thead>\n",
       "    <tr style=\"text-align: right;\">\n",
       "      <th></th>\n",
       "      <th>id</th>\n",
       "      <th>day</th>\n",
       "      <th>pressure</th>\n",
       "      <th>maxtemp</th>\n",
       "      <th>temparature</th>\n",
       "      <th>mintemp</th>\n",
       "      <th>dewpoint</th>\n",
       "      <th>humidity</th>\n",
       "      <th>cloud</th>\n",
       "      <th>sunshine</th>\n",
       "      <th>winddirection</th>\n",
       "      <th>windspeed</th>\n",
       "      <th>rainfall</th>\n",
       "    </tr>\n",
       "  </thead>\n",
       "  <tbody>\n",
       "    <tr>\n",
       "      <th>0</th>\n",
       "      <td>1</td>\n",
       "      <td>1</td>\n",
       "      <td>0.671702</td>\n",
       "      <td>-0.913809</td>\n",
       "      <td>-0.642199</td>\n",
       "      <td>-0.448815</td>\n",
       "      <td>-0.199457</td>\n",
       "      <td>0.636434</td>\n",
       "      <td>0.681269</td>\n",
       "      <td>-0.729397</td>\n",
       "      <td>-0.560901</td>\n",
       "      <td>-0.465291</td>\n",
       "      <td>1</td>\n",
       "    </tr>\n",
       "    <tr>\n",
       "      <th>1</th>\n",
       "      <td>2</td>\n",
       "      <td>2</td>\n",
       "      <td>1.043116</td>\n",
       "      <td>-1.798289</td>\n",
       "      <td>-1.350846</td>\n",
       "      <td>-1.259418</td>\n",
       "      <td>-0.956001</td>\n",
       "      <td>1.662224</td>\n",
       "      <td>0.847728</td>\n",
       "      <td>-1.032804</td>\n",
       "      <td>-0.685925</td>\n",
       "      <td>0.009629</td>\n",
       "      <td>1</td>\n",
       "    </tr>\n",
       "    <tr>\n",
       "      <th>2</th>\n",
       "      <td>3</td>\n",
       "      <td>3</td>\n",
       "      <td>1.856688</td>\n",
       "      <td>-1.232222</td>\n",
       "      <td>-1.504067</td>\n",
       "      <td>-1.496667</td>\n",
       "      <td>-2.109731</td>\n",
       "      <td>-0.902250</td>\n",
       "      <td>-1.593680</td>\n",
       "      <td>1.256536</td>\n",
       "      <td>-0.435876</td>\n",
       "      <td>-0.374349</td>\n",
       "      <td>1</td>\n",
       "    </tr>\n",
       "    <tr>\n",
       "      <th>3</th>\n",
       "      <td>4</td>\n",
       "      <td>4</td>\n",
       "      <td>-0.035752</td>\n",
       "      <td>-1.462187</td>\n",
       "      <td>-1.178472</td>\n",
       "      <td>-1.041939</td>\n",
       "      <td>-0.691210</td>\n",
       "      <td>1.662224</td>\n",
       "      <td>1.069675</td>\n",
       "      <td>-1.032804</td>\n",
       "      <td>-0.560901</td>\n",
       "      <td>1.393971</td>\n",
       "      <td>1</td>\n",
       "    </tr>\n",
       "    <tr>\n",
       "      <th>4</th>\n",
       "      <td>5</td>\n",
       "      <td>5</td>\n",
       "      <td>1.449902</td>\n",
       "      <td>-0.896120</td>\n",
       "      <td>-1.063556</td>\n",
       "      <td>-1.378043</td>\n",
       "      <td>-2.052990</td>\n",
       "      <td>-3.851394</td>\n",
       "      <td>-1.704654</td>\n",
       "      <td>-0.039837</td>\n",
       "      <td>-0.810950</td>\n",
       "      <td>0.302665</td>\n",
       "      <td>0</td>\n",
       "    </tr>\n",
       "    <tr>\n",
       "      <th>...</th>\n",
       "      <td>...</td>\n",
       "      <td>...</td>\n",
       "      <td>...</td>\n",
       "      <td>...</td>\n",
       "      <td>...</td>\n",
       "      <td>...</td>\n",
       "      <td>...</td>\n",
       "      <td>...</td>\n",
       "      <td>...</td>\n",
       "      <td>...</td>\n",
       "      <td>...</td>\n",
       "      <td>...</td>\n",
       "      <td>...</td>\n",
       "    </tr>\n",
       "    <tr>\n",
       "      <th>3295</th>\n",
       "      <td>3296</td>\n",
       "      <td>2</td>\n",
       "      <td>0.896361</td>\n",
       "      <td>-0.173770</td>\n",
       "      <td>-0.220368</td>\n",
       "      <td>-0.056342</td>\n",
       "      <td>-0.682610</td>\n",
       "      <td>-0.089462</td>\n",
       "      <td>-0.909499</td>\n",
       "      <td>-0.652118</td>\n",
       "      <td>-0.748952</td>\n",
       "      <td>0.660752</td>\n",
       "      <td>0</td>\n",
       "    </tr>\n",
       "    <tr>\n",
       "      <th>3296</th>\n",
       "      <td>3297</td>\n",
       "      <td>3</td>\n",
       "      <td>1.614381</td>\n",
       "      <td>-1.623131</td>\n",
       "      <td>-1.710886</td>\n",
       "      <td>-1.807024</td>\n",
       "      <td>-1.973620</td>\n",
       "      <td>-1.094424</td>\n",
       "      <td>-1.688022</td>\n",
       "      <td>1.275851</td>\n",
       "      <td>-1.061000</td>\n",
       "      <td>-0.934382</td>\n",
       "      <td>0</td>\n",
       "    </tr>\n",
       "    <tr>\n",
       "      <th>3297</th>\n",
       "      <td>3298</td>\n",
       "      <td>4</td>\n",
       "      <td>-0.910964</td>\n",
       "      <td>0.912511</td>\n",
       "      <td>0.916527</td>\n",
       "      <td>0.891618</td>\n",
       "      <td>0.909954</td>\n",
       "      <td>0.101534</td>\n",
       "      <td>-0.315840</td>\n",
       "      <td>1.454347</td>\n",
       "      <td>0.241032</td>\n",
       "      <td>-0.326925</td>\n",
       "      <td>0</td>\n",
       "    </tr>\n",
       "    <tr>\n",
       "      <th>3298</th>\n",
       "      <td>3299</td>\n",
       "      <td>5</td>\n",
       "      <td>-0.952384</td>\n",
       "      <td>0.979646</td>\n",
       "      <td>1.036035</td>\n",
       "      <td>0.931877</td>\n",
       "      <td>0.857713</td>\n",
       "      <td>-0.849226</td>\n",
       "      <td>-1.584084</td>\n",
       "      <td>1.919338</td>\n",
       "      <td>1.586145</td>\n",
       "      <td>-1.007147</td>\n",
       "      <td>0</td>\n",
       "    </tr>\n",
       "    <tr>\n",
       "      <th>3299</th>\n",
       "      <td>3300</td>\n",
       "      <td>6</td>\n",
       "      <td>0.484965</td>\n",
       "      <td>-0.367489</td>\n",
       "      <td>-1.005652</td>\n",
       "      <td>-0.982627</td>\n",
       "      <td>-0.796774</td>\n",
       "      <td>-2.262018</td>\n",
       "      <td>-0.520076</td>\n",
       "      <td>0.475885</td>\n",
       "      <td>-0.749894</td>\n",
       "      <td>1.491965</td>\n",
       "      <td>0</td>\n",
       "    </tr>\n",
       "  </tbody>\n",
       "</table>\n",
       "<p>3300 rows × 13 columns</p>\n",
       "</div>"
      ],
      "text/plain": [
       "        id  day  pressure   maxtemp  temparature   mintemp  dewpoint  \\\n",
       "0        1    1  0.671702 -0.913809    -0.642199 -0.448815 -0.199457   \n",
       "1        2    2  1.043116 -1.798289    -1.350846 -1.259418 -0.956001   \n",
       "2        3    3  1.856688 -1.232222    -1.504067 -1.496667 -2.109731   \n",
       "3        4    4 -0.035752 -1.462187    -1.178472 -1.041939 -0.691210   \n",
       "4        5    5  1.449902 -0.896120    -1.063556 -1.378043 -2.052990   \n",
       "...    ...  ...       ...       ...          ...       ...       ...   \n",
       "3295  3296    2  0.896361 -0.173770    -0.220368 -0.056342 -0.682610   \n",
       "3296  3297    3  1.614381 -1.623131    -1.710886 -1.807024 -1.973620   \n",
       "3297  3298    4 -0.910964  0.912511     0.916527  0.891618  0.909954   \n",
       "3298  3299    5 -0.952384  0.979646     1.036035  0.931877  0.857713   \n",
       "3299  3300    6  0.484965 -0.367489    -1.005652 -0.982627 -0.796774   \n",
       "\n",
       "      humidity     cloud  sunshine  winddirection  windspeed  rainfall  \n",
       "0     0.636434  0.681269 -0.729397      -0.560901  -0.465291         1  \n",
       "1     1.662224  0.847728 -1.032804      -0.685925   0.009629         1  \n",
       "2    -0.902250 -1.593680  1.256536      -0.435876  -0.374349         1  \n",
       "3     1.662224  1.069675 -1.032804      -0.560901   1.393971         1  \n",
       "4    -3.851394 -1.704654 -0.039837      -0.810950   0.302665         0  \n",
       "...        ...       ...       ...            ...        ...       ...  \n",
       "3295 -0.089462 -0.909499 -0.652118      -0.748952   0.660752         0  \n",
       "3296 -1.094424 -1.688022  1.275851      -1.061000  -0.934382         0  \n",
       "3297  0.101534 -0.315840  1.454347       0.241032  -0.326925         0  \n",
       "3298 -0.849226 -1.584084  1.919338       1.586145  -1.007147         0  \n",
       "3299 -2.262018 -0.520076  0.475885      -0.749894   1.491965         0  \n",
       "\n",
       "[3300 rows x 13 columns]"
      ]
     },
     "execution_count": 4,
     "metadata": {},
     "output_type": "execute_result"
    }
   ],
   "source": [
    "train"
   ]
  },
  {
   "cell_type": "code",
   "execution_count": 5,
   "metadata": {},
   "outputs": [],
   "source": [
    "X_train, X_test, y_train, y_test = train_test_split(train.drop(columns=['day', 'id', 'rainfall']), \n",
    "                                                    train['rainfall'], test_size=0.2, random_state=42)"
   ]
  },
  {
   "cell_type": "code",
   "execution_count": 6,
   "metadata": {
    "scrolled": false
   },
   "outputs": [
    {
     "name": "stdout",
     "output_type": "stream",
     "text": [
      "Best Parameters: {'criterion': 'entropy', 'max_depth': 15, 'min_samples_split': 2, 'n_estimators': 100}\n",
      "Best Score: 0.8875\n"
     ]
    }
   ],
   "source": [
    "param_grid = {'n_estimators': [50, 100, 200],\n",
    "    'max_depth': [10, 15, 20],\n",
    "    'min_samples_split': [2, 5, 10],\n",
    "    'criterion': ['gini', 'entropy']}\n",
    "\n",
    "rf = RandomForestClassifier(random_state=42)\n",
    "\n",
    "grid_search = GridSearchCV(rf, param_grid, cv=5, scoring='accuracy', n_jobs=-1)\n",
    "grid_search.fit(X_train, y_train)\n",
    "\n",
    "print(\"Best Parameters:\", grid_search.best_params_)\n",
    "print(\"Best Score:\", grid_search.best_score_)"
   ]
  },
  {
   "cell_type": "code",
   "execution_count": 7,
   "metadata": {},
   "outputs": [],
   "source": [
    "best_model = grid_search.best_estimator_\n",
    "submission_proba = best_model.predict_proba(X_test)[:, 1]"
   ]
  },
  {
   "cell_type": "code",
   "execution_count": 8,
   "metadata": {},
   "outputs": [
    {
     "name": "stdout",
     "output_type": "stream",
     "text": [
      "Rank 38\n",
      "Mean Accuracy: 0.8875\n",
      "Parameters: {'criterion': 'entropy', 'max_depth': 15, 'min_samples_split': 2, 'n_estimators': 100}\n",
      "----------------------------------------\n",
      "Rank 39\n",
      "Mean Accuracy: 0.8871\n",
      "Parameters: {'criterion': 'entropy', 'max_depth': 15, 'min_samples_split': 2, 'n_estimators': 200}\n",
      "----------------------------------------\n",
      "Rank 12\n",
      "Mean Accuracy: 0.8871\n",
      "Parameters: {'criterion': 'gini', 'max_depth': 15, 'min_samples_split': 2, 'n_estimators': 200}\n",
      "----------------------------------------\n",
      "Rank 21\n",
      "Mean Accuracy: 0.8867\n",
      "Parameters: {'criterion': 'gini', 'max_depth': 20, 'min_samples_split': 2, 'n_estimators': 200}\n",
      "----------------------------------------\n",
      "Rank 48\n",
      "Mean Accuracy: 0.8867\n",
      "Parameters: {'criterion': 'entropy', 'max_depth': 20, 'min_samples_split': 2, 'n_estimators': 200}\n",
      "----------------------------------------\n"
     ]
    }
   ],
   "source": [
    "# choosing different RF models and combine them\n",
    "\n",
    "results_df = pd.DataFrame(grid_search.cv_results_)\n",
    "top5 = results_df.sort_values(by='mean_test_score', ascending=False).head(5)\n",
    "for i, row in top5.iterrows():\n",
    "    print(f\"Rank {i+1}\")\n",
    "    print(f\"Mean Accuracy: {row['mean_test_score']:.4f}\")\n",
    "    print(f\"Parameters: {row['params']}\")\n",
    "    print('-' * 40)"
   ]
  },
  {
   "cell_type": "code",
   "execution_count": 9,
   "metadata": {},
   "outputs": [
    {
     "data": {
      "text/plain": [
       "VotingClassifier(estimators=[('rf1',\n",
       "                              RandomForestClassifier(criterion='entropy',\n",
       "                                                     max_depth=15,\n",
       "                                                     random_state=42)),\n",
       "                             ('rf2',\n",
       "                              RandomForestClassifier(criterion='entropy',\n",
       "                                                     max_depth=15,\n",
       "                                                     n_estimators=200,\n",
       "                                                     random_state=42)),\n",
       "                             ('rf3',\n",
       "                              RandomForestClassifier(max_depth=15,\n",
       "                                                     n_estimators=200,\n",
       "                                                     random_state=42))],\n",
       "                 voting='soft')"
      ]
     },
     "execution_count": 9,
     "metadata": {},
     "output_type": "execute_result"
    }
   ],
   "source": [
    "rf1 = RandomForestClassifier(criterion='entropy', max_depth=15,\n",
    "                             min_samples_split=2, n_estimators=100, random_state=42)\n",
    "rf1.fit(X_train, y_train)\n",
    "\n",
    "rf2 = RandomForestClassifier(criterion='entropy', max_depth=15,\n",
    "                             min_samples_split=2, n_estimators=200, random_state=42)\n",
    "rf2.fit(X_train, y_train)\n",
    "rf3 = RandomForestClassifier(criterion='gini', max_depth=15,\n",
    "                             min_samples_split=2, n_estimators=200, random_state=42)\n",
    "rf3.fit(X_train, y_train)\n",
    "\n",
    "ensemble_model = VotingClassifier(estimators=[('rf1', rf1), ('rf2', rf2), ('rf3', rf3)],\n",
    "    voting='soft')\n",
    "ensemble_model.fit(X_train, y_train)"
   ]
  },
  {
   "cell_type": "code",
   "execution_count": 10,
   "metadata": {},
   "outputs": [
    {
     "name": "stdout",
     "output_type": "stream",
     "text": [
      "[1 1 1 1 1 0 0 1 1 1 1 1 1 1 0 1 0 0 0 1 0 1 1 1 1 0 0 1 1 0 0 1 0 0 0 1 1\n",
      " 0 1 0 1 0 1 0 0 0 0 0 0 0 0 0 1 1 0 1 0 1 0 0 1 1 1 1 1 0 1 0 1 0 1 0 1 0\n",
      " 1 1 0 1 0 0 0 1 0 0 1 1 0 0 0 1 0 0 1 0 1 0 0 1 1 1 0 0 1 1 1 1 0 0 1 0 1\n",
      " 1 1 1 1 1 1 0 1 0 1 1 0 1 0 0 0 1 1 1 1 0 1 1 1 1 0 1 0 0 1 0 0 0 0 1 1 1\n",
      " 0 0 1 0 0 0 0 0 0 1 1 0 1 0 0 0 1 0 0 0 1 1 1 1 1 0 0 0 1 1 1 0 1 0 0 0 1\n",
      " 1 1 0 1 1 0 1 0 1 1 0 1 0 0 1 0 1 1 1 1 0 0 0 1 1 0 1 0 1 0 0 0 1 0 0 1 1\n",
      " 0 0 0 0 0 0 0 1 1 1 0 1 0 1 1 0 0 0 0 0 0 0 0 0 0 0 1 0 1 1 0 1 0 0 0 0 0\n",
      " 0 1 0 1 1 1 1 0 0 0 1 0 0 0 1 1 0 0 1 1 1 1 1 1 0 1 0 1 1 0 1 0 1 1 1 0 0\n",
      " 1 0 1 0 1 1 1 1 0 1 0 0 0 1 0 1 1 0 1 0 1 1 1 0 0 1 1 0 0 0 0 0 1 0 1 1 0\n",
      " 0 0 1 0 0 0 1 1 0 1 0 1 1 1 0 1 1 1 0 0 1 1 1 1 0 0 1 1 0 1 1 0 0 0 0 1 1\n",
      " 1 0 1 0 0 0 1 1 0 1 1 1 1 0 0 1 1 0 1 0 0 1 1 0 0 1 1 0 1 0 1 1 0 1 1 1 1\n",
      " 0 0 1 0 0 0 0 1 1 1 1 0 1 0 1 0 0 1 0 0 1 1 0 1 1 1 1 1 1 1 1 0 0 1 1 0 1\n",
      " 0 1 1 0 1 0 0 0 1 0 1 1 0 0 1 1 1 1 1 0 0 0 0 0 0 1 1 1 0 0 1 1 1 1 1 1 1\n",
      " 0 1 1 1 0 1 1 0 1 0 1 1 1 0 0 1 1 0 0 1 1 1 0 0 0 1 1 1 0 1 0 0 0 0 0 1 1\n",
      " 1 1 0 0 0 0 0 1 0 1 0 1 0 0 1 1 0 1 1 0 1 0 0 1 0 1 0 1 0 0 1 1 1 1 1 0 1\n",
      " 0 0 0 1 0 0 1 0 1 1 0 0 1 0 0 1 1 1 0 0 0 0 1 0 1 0 0 1 0 0 1 1 0 0 1 1 1\n",
      " 0 1 0 0 1 0 0 0 1 1 1 0 0 0 0 1 0 0 1 0 1 1 0 1 1 1 0 1 1 0 0 0 0 1 1 0 1\n",
      " 0 1 0 1 0 1 1 1 1 0 0 1 1 0 1 0 0 1 0 0 1 0 1 0 0 0 0 0 0 1 1]\n",
      "accuracy: 0.9015151515151515\n",
      "accuracy: 0.9030303030303031\n"
     ]
    }
   ],
   "source": [
    "print(rf1.predict(X_test))\n",
    "print(\"accuracy:\", rf1.score(X_test, y_test))\n",
    "print(\"accuracy:\", ensemble_model.score(X_test, y_test))"
   ]
  },
  {
   "cell_type": "code",
   "execution_count": 11,
   "metadata": {},
   "outputs": [
    {
     "name": "stdout",
     "output_type": "stream",
     "text": [
      "[[0.01       0.99      ]\n",
      " [0.25111111 0.74888889]\n",
      " [0.06299861 0.93700139]\n",
      " ...\n",
      " [0.97       0.03      ]\n",
      " [0.23231565 0.76768435]\n",
      " [0.28720793 0.71279207]]\n"
     ]
    }
   ],
   "source": [
    "print(rf1.predict_proba(X_test))"
   ]
  },
  {
   "cell_type": "code",
   "execution_count": 12,
   "metadata": {
    "scrolled": false
   },
   "outputs": [
    {
     "name": "stdout",
     "output_type": "stream",
     "text": [
      "MSE: 0.09848484848484848\n",
      "r2_score: 0.6060461357625624\n",
      "              precision    recall  f1-score   support\n",
      "\n",
      "           0       0.90      0.90      0.90       328\n",
      "           1       0.90      0.91      0.90       332\n",
      "\n",
      "    accuracy                           0.90       660\n",
      "   macro avg       0.90      0.90      0.90       660\n",
      "weighted avg       0.90      0.90      0.90       660\n",
      "\n",
      "MSE: 0.09696969696969697\n",
      "r2_score: 0.6121069644431385\n",
      "              precision    recall  f1-score   support\n",
      "\n",
      "           0       0.91      0.90      0.90       328\n",
      "           1       0.90      0.91      0.90       332\n",
      "\n",
      "    accuracy                           0.90       660\n",
      "   macro avg       0.90      0.90      0.90       660\n",
      "weighted avg       0.90      0.90      0.90       660\n",
      "\n"
     ]
    }
   ],
   "source": [
    "model_evaluation(y_test, rf1.predict(X_test))\n",
    "model_evaluation(y_test, ensemble_model.predict(X_test))"
   ]
  },
  {
   "cell_type": "code",
   "execution_count": 13,
   "metadata": {
    "scrolled": true
   },
   "outputs": [
    {
     "data": {
      "image/png": "[encoded data removed]",
      "text/plain": [
       "<Figure size 1080x360 with 1 Axes>"
      ]
     },
     "metadata": {
      "needs_background": "light"
     },
     "output_type": "display_data"
    },
    {
     "name": "stdout",
     "output_type": "stream",
     "text": [
      "roc_auc_score: 0.9608112327358213\n"
     ]
    },
    {
     "data": {
      "image/png": "[encoded data removed]",
      "text/plain": [
       "<Figure size 1080x360 with 1 Axes>"
      ]
     },
     "metadata": {
      "needs_background": "light"
     },
     "output_type": "display_data"
    },
    {
     "name": "stdout",
     "output_type": "stream",
     "text": [
      "roc_auc_score: 0.9621106376726418\n"
     ]
    }
   ],
   "source": [
    "draw_ROC_curve(rf1.predict_proba(X_test)[:, 1], y_test)\n",
    "draw_ROC_curve(ensemble_model.predict_proba(X_test)[:, 1], y_test)"
   ]
  }
 ],
 "metadata": {
  "kernelspec": {
   "display_name": "Python 3",
   "language": "python",
   "name": "python3"
  },
  "language_info": {
   "codemirror_mode": {
    "name": "ipython",
    "version": 3
   },
   "file_extension": ".py",
   "mimetype": "text/x-python",
   "name": "python",
   "nbconvert_exporter": "python",
   "pygments_lexer": "ipython3",
   "version": "3.8.5"
  }
 },
 "nbformat": 4,
 "nbformat_minor": 4
}
